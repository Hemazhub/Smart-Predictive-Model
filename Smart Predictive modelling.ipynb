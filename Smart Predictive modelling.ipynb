{
 "cells": [
  {
   "cell_type": "code",
   "execution_count": 1,
   "id": "283f631e-2e72-4a94-bfa3-1f0e34620ecb",
   "metadata": {},
   "outputs": [],
   "source": [
    "import numpy as np\n",
    "import pandas as pd\n",
    "import matplotlib.pyplot as plt\n",
    "import seaborn as sns\n",
    "import warnings\n",
    "warnings.filterwarnings('ignore')"
   ]
  },
  {
   "cell_type": "code",
   "execution_count": 2,
   "id": "3f6fca19-440e-49b0-a1f2-b80e64d83226",
   "metadata": {},
   "outputs": [],
   "source": [
    "df = pd.read_csv(\"C:\\Guvi_projects\\Smart_model_prediction\\House_Rent_Train.csv.csv\")"
   ]
  },
  {
   "cell_type": "code",
   "execution_count": 3,
   "id": "22afc8c8-972a-444d-bdac-bb2f5ef27fc3",
   "metadata": {},
   "outputs": [
    {
     "data": {
      "text/html": [
       "<div>\n",
       "<style scoped>\n",
       "    .dataframe tbody tr th:only-of-type {\n",
       "        vertical-align: middle;\n",
       "    }\n",
       "\n",
       "    .dataframe tbody tr th {\n",
       "        vertical-align: top;\n",
       "    }\n",
       "\n",
       "    .dataframe thead th {\n",
       "        text-align: right;\n",
       "    }\n",
       "</style>\n",
       "<table border=\"1\" class=\"dataframe\">\n",
       "  <thead>\n",
       "    <tr style=\"text-align: right;\">\n",
       "      <th></th>\n",
       "      <th>id</th>\n",
       "      <th>type</th>\n",
       "      <th>locality</th>\n",
       "      <th>activation_date</th>\n",
       "      <th>latitude</th>\n",
       "      <th>longitude</th>\n",
       "      <th>lease_type</th>\n",
       "      <th>gym</th>\n",
       "      <th>lift</th>\n",
       "      <th>swimming_pool</th>\n",
       "      <th>...</th>\n",
       "      <th>bathroom</th>\n",
       "      <th>facing</th>\n",
       "      <th>cup_board</th>\n",
       "      <th>floor</th>\n",
       "      <th>total_floor</th>\n",
       "      <th>amenities</th>\n",
       "      <th>water_supply</th>\n",
       "      <th>building_type</th>\n",
       "      <th>balconies</th>\n",
       "      <th>rent</th>\n",
       "    </tr>\n",
       "  </thead>\n",
       "  <tbody>\n",
       "    <tr>\n",
       "      <th>0</th>\n",
       "      <td>ff8081815733a243015733b2876600a6</td>\n",
       "      <td>BHK2</td>\n",
       "      <td>NaN</td>\n",
       "      <td>21-04-2018 14:44</td>\n",
       "      <td>12.934471</td>\n",
       "      <td>77.634471</td>\n",
       "      <td>FAMILY</td>\n",
       "      <td>1</td>\n",
       "      <td>1</td>\n",
       "      <td>1</td>\n",
       "      <td>...</td>\n",
       "      <td>2.0</td>\n",
       "      <td>E</td>\n",
       "      <td>2.0</td>\n",
       "      <td>6.0</td>\n",
       "      <td>12.0</td>\n",
       "      <td>{\"LIFT\":true,\"GYM\":true,\"INTERNET\":true,\"AC\":f...</td>\n",
       "      <td>CORP_BORE</td>\n",
       "      <td>AP</td>\n",
       "      <td>2.0</td>\n",
       "      <td>40000.0</td>\n",
       "    </tr>\n",
       "    <tr>\n",
       "      <th>1</th>\n",
       "      <td>ff8081815ee25e15015ee50004da2acd</td>\n",
       "      <td>BHK2</td>\n",
       "      <td>Bellandur</td>\n",
       "      <td>9/10/2017 12:48</td>\n",
       "      <td>12.929557</td>\n",
       "      <td>77.672280</td>\n",
       "      <td>ANYONE</td>\n",
       "      <td>0</td>\n",
       "      <td>1</td>\n",
       "      <td>0</td>\n",
       "      <td>...</td>\n",
       "      <td>2.0</td>\n",
       "      <td>NE</td>\n",
       "      <td>2.0</td>\n",
       "      <td>3.0</td>\n",
       "      <td>4.0</td>\n",
       "      <td>{\"LIFT\":true,\"GYM\":false,\"INTERNET\":false,\"AC\"...</td>\n",
       "      <td>CORPORATION</td>\n",
       "      <td>AP</td>\n",
       "      <td>2.0</td>\n",
       "      <td>22000.0</td>\n",
       "    </tr>\n",
       "    <tr>\n",
       "      <th>2</th>\n",
       "      <td>ff80818163f29c9e0163f46770b873e7</td>\n",
       "      <td>BHK3</td>\n",
       "      <td>Thiruvanmiyur</td>\n",
       "      <td>12/6/2018 22:02</td>\n",
       "      <td>12.982870</td>\n",
       "      <td>80.262012</td>\n",
       "      <td>FAMILY</td>\n",
       "      <td>0</td>\n",
       "      <td>1</td>\n",
       "      <td>0</td>\n",
       "      <td>...</td>\n",
       "      <td>3.0</td>\n",
       "      <td>E</td>\n",
       "      <td>3.0</td>\n",
       "      <td>1.0</td>\n",
       "      <td>5.0</td>\n",
       "      <td>{\"LIFT\":true,\"GYM\":false,\"INTERNET\":false,\"AC\"...</td>\n",
       "      <td>CORP_BORE</td>\n",
       "      <td>AP</td>\n",
       "      <td>3.0</td>\n",
       "      <td>28000.0</td>\n",
       "    </tr>\n",
       "    <tr>\n",
       "      <th>3</th>\n",
       "      <td>ff80818164b68a700164b74b1b247a1d</td>\n",
       "      <td>BHK1</td>\n",
       "      <td>Attiguppe</td>\n",
       "      <td>20-07-2018 16:22</td>\n",
       "      <td>12.955991</td>\n",
       "      <td>77.531634</td>\n",
       "      <td>FAMILY</td>\n",
       "      <td>0</td>\n",
       "      <td>0</td>\n",
       "      <td>0</td>\n",
       "      <td>...</td>\n",
       "      <td>1.0</td>\n",
       "      <td>E</td>\n",
       "      <td>1.0</td>\n",
       "      <td>1.0</td>\n",
       "      <td>2.0</td>\n",
       "      <td>{\"LIFT\":false,\"GYM\":false,\"INTERNET\":false,\"AC...</td>\n",
       "      <td>CORPORATION</td>\n",
       "      <td>IH</td>\n",
       "      <td>0.0</td>\n",
       "      <td>8000.0</td>\n",
       "    </tr>\n",
       "    <tr>\n",
       "      <th>4</th>\n",
       "      <td>ff80818163b1faf00163b4b9b8a163b1</td>\n",
       "      <td>BHK3</td>\n",
       "      <td>Kodihalli</td>\n",
       "      <td>31-05-2018 17:41</td>\n",
       "      <td>12.963903</td>\n",
       "      <td>77.649446</td>\n",
       "      <td>FAMILY</td>\n",
       "      <td>0</td>\n",
       "      <td>0</td>\n",
       "      <td>0</td>\n",
       "      <td>...</td>\n",
       "      <td>3.0</td>\n",
       "      <td>E</td>\n",
       "      <td>4.0</td>\n",
       "      <td>0.0</td>\n",
       "      <td>0.0</td>\n",
       "      <td>{\"LIFT\":false,\"GYM\":false,\"INTERNET\":false,\"AC...</td>\n",
       "      <td>CORPORATION</td>\n",
       "      <td>IH</td>\n",
       "      <td>1.0</td>\n",
       "      <td>45000.0</td>\n",
       "    </tr>\n",
       "  </tbody>\n",
       "</table>\n",
       "<p>5 rows × 25 columns</p>\n",
       "</div>"
      ],
      "text/plain": [
       "                                 id  type       locality   activation_date  \\\n",
       "0  ff8081815733a243015733b2876600a6  BHK2            NaN  21-04-2018 14:44   \n",
       "1  ff8081815ee25e15015ee50004da2acd  BHK2      Bellandur   9/10/2017 12:48   \n",
       "2  ff80818163f29c9e0163f46770b873e7  BHK3  Thiruvanmiyur   12/6/2018 22:02   \n",
       "3  ff80818164b68a700164b74b1b247a1d  BHK1      Attiguppe  20-07-2018 16:22   \n",
       "4  ff80818163b1faf00163b4b9b8a163b1  BHK3      Kodihalli  31-05-2018 17:41   \n",
       "\n",
       "    latitude  longitude lease_type  gym  lift  swimming_pool  ...  bathroom  \\\n",
       "0  12.934471  77.634471     FAMILY    1     1              1  ...       2.0   \n",
       "1  12.929557  77.672280     ANYONE    0     1              0  ...       2.0   \n",
       "2  12.982870  80.262012     FAMILY    0     1              0  ...       3.0   \n",
       "3  12.955991  77.531634     FAMILY    0     0              0  ...       1.0   \n",
       "4  12.963903  77.649446     FAMILY    0     0              0  ...       3.0   \n",
       "\n",
       "  facing cup_board  floor  total_floor  \\\n",
       "0      E       2.0    6.0         12.0   \n",
       "1     NE       2.0    3.0          4.0   \n",
       "2      E       3.0    1.0          5.0   \n",
       "3      E       1.0    1.0          2.0   \n",
       "4      E       4.0    0.0          0.0   \n",
       "\n",
       "                                           amenities water_supply  \\\n",
       "0  {\"LIFT\":true,\"GYM\":true,\"INTERNET\":true,\"AC\":f...    CORP_BORE   \n",
       "1  {\"LIFT\":true,\"GYM\":false,\"INTERNET\":false,\"AC\"...  CORPORATION   \n",
       "2  {\"LIFT\":true,\"GYM\":false,\"INTERNET\":false,\"AC\"...    CORP_BORE   \n",
       "3  {\"LIFT\":false,\"GYM\":false,\"INTERNET\":false,\"AC...  CORPORATION   \n",
       "4  {\"LIFT\":false,\"GYM\":false,\"INTERNET\":false,\"AC...  CORPORATION   \n",
       "\n",
       "   building_type  balconies     rent  \n",
       "0             AP        2.0  40000.0  \n",
       "1             AP        2.0  22000.0  \n",
       "2             AP        3.0  28000.0  \n",
       "3             IH        0.0   8000.0  \n",
       "4             IH        1.0  45000.0  \n",
       "\n",
       "[5 rows x 25 columns]"
      ]
     },
     "execution_count": 3,
     "metadata": {},
     "output_type": "execute_result"
    }
   ],
   "source": [
    "df.head()"
   ]
  },
  {
   "cell_type": "code",
   "execution_count": 4,
   "id": "f1164416-5494-4315-9aae-710d9525cd62",
   "metadata": {},
   "outputs": [
    {
     "name": "stdout",
     "output_type": "stream",
     "text": [
      "<class 'pandas.core.frame.DataFrame'>\n",
      "RangeIndex: 20555 entries, 0 to 20554\n",
      "Data columns (total 25 columns):\n",
      " #   Column           Non-Null Count  Dtype  \n",
      "---  ------           --------------  -----  \n",
      " 0   id               20555 non-null  object \n",
      " 1   type             20528 non-null  object \n",
      " 2   locality         20395 non-null  object \n",
      " 3   activation_date  20532 non-null  object \n",
      " 4   latitude         20532 non-null  float64\n",
      " 5   longitude        20532 non-null  float64\n",
      " 6   lease_type       20532 non-null  object \n",
      " 7   gym              20555 non-null  int64  \n",
      " 8   lift             20555 non-null  int64  \n",
      " 9   swimming_pool    20555 non-null  int64  \n",
      " 10  negotiable       20555 non-null  int64  \n",
      " 11  furnishing       20555 non-null  object \n",
      " 12  parking          20555 non-null  object \n",
      " 13  property_size    20555 non-null  int64  \n",
      " 14  property_age     20532 non-null  float64\n",
      " 15  bathroom         20532 non-null  float64\n",
      " 16  facing           20532 non-null  object \n",
      " 17  cup_board        20532 non-null  float64\n",
      " 18  floor            20532 non-null  float64\n",
      " 19  total_floor      20532 non-null  float64\n",
      " 20  amenities        20532 non-null  object \n",
      " 21  water_supply     20532 non-null  object \n",
      " 22  building_type    20532 non-null  object \n",
      " 23  balconies        20532 non-null  float64\n",
      " 24  rent             20532 non-null  float64\n",
      "dtypes: float64(9), int64(5), object(11)\n",
      "memory usage: 3.9+ MB\n"
     ]
    }
   ],
   "source": [
    "df.info()"
   ]
  },
  {
   "cell_type": "code",
   "execution_count": 5,
   "id": "a83ca40b-518f-4cb9-85b7-12983971ca42",
   "metadata": {},
   "outputs": [
    {
     "data": {
      "text/plain": [
       "id                   0\n",
       "type                27\n",
       "locality           160\n",
       "activation_date     23\n",
       "latitude            23\n",
       "longitude           23\n",
       "lease_type          23\n",
       "gym                  0\n",
       "lift                 0\n",
       "swimming_pool        0\n",
       "negotiable           0\n",
       "furnishing           0\n",
       "parking              0\n",
       "property_size        0\n",
       "property_age        23\n",
       "bathroom            23\n",
       "facing              23\n",
       "cup_board           23\n",
       "floor               23\n",
       "total_floor         23\n",
       "amenities           23\n",
       "water_supply        23\n",
       "building_type       23\n",
       "balconies           23\n",
       "rent                23\n",
       "dtype: int64"
      ]
     },
     "execution_count": 5,
     "metadata": {},
     "output_type": "execute_result"
    }
   ],
   "source": [
    "df.isnull().sum()"
   ]
  },
  {
   "cell_type": "code",
   "execution_count": 6,
   "id": "275c8a9e-567c-41cf-961b-fa32254ad5b6",
   "metadata": {},
   "outputs": [],
   "source": [
    "df[\"locality\"].fillna(\"unknown\", inplace = True)"
   ]
  },
  {
   "cell_type": "code",
   "execution_count": 7,
   "id": "a95a3066-b53a-4c67-8dab-c08c9ec4eaf1",
   "metadata": {},
   "outputs": [
    {
     "data": {
      "text/plain": [
       "id                  0\n",
       "type               27\n",
       "locality            0\n",
       "activation_date    23\n",
       "latitude           23\n",
       "longitude          23\n",
       "lease_type         23\n",
       "gym                 0\n",
       "lift                0\n",
       "swimming_pool       0\n",
       "negotiable          0\n",
       "furnishing          0\n",
       "parking             0\n",
       "property_size       0\n",
       "property_age       23\n",
       "bathroom           23\n",
       "facing             23\n",
       "cup_board          23\n",
       "floor              23\n",
       "total_floor        23\n",
       "amenities          23\n",
       "water_supply       23\n",
       "building_type      23\n",
       "balconies          23\n",
       "rent               23\n",
       "dtype: int64"
      ]
     },
     "execution_count": 7,
     "metadata": {},
     "output_type": "execute_result"
    }
   ],
   "source": [
    "df.isnull().sum()"
   ]
  },
  {
   "cell_type": "code",
   "execution_count": 8,
   "id": "1bcac1bd-de15-4369-9b08-c80c02c0d6a2",
   "metadata": {},
   "outputs": [],
   "source": [
    "df[\"type\"].fillna(\"unknown\", inplace = True)"
   ]
  },
  {
   "cell_type": "code",
   "execution_count": 9,
   "id": "ee2b6e43-1265-4347-bdf6-0023899a9b2b",
   "metadata": {},
   "outputs": [],
   "source": [
    "# null_values = df[df.isnull().any(axis=1)]\n",
    "# print(null_values)"
   ]
  },
  {
   "cell_type": "code",
   "execution_count": 10,
   "id": "b22ed75e-3b46-4c0f-a392-9a8208f32313",
   "metadata": {},
   "outputs": [],
   "source": [
    "df.dropna(inplace = True)"
   ]
  },
  {
   "cell_type": "code",
   "execution_count": 11,
   "id": "424d1c41-3979-4d20-99cc-0dd6f81b4132",
   "metadata": {},
   "outputs": [
    {
     "data": {
      "text/plain": [
       "id                 0\n",
       "type               0\n",
       "locality           0\n",
       "activation_date    0\n",
       "latitude           0\n",
       "longitude          0\n",
       "lease_type         0\n",
       "gym                0\n",
       "lift               0\n",
       "swimming_pool      0\n",
       "negotiable         0\n",
       "furnishing         0\n",
       "parking            0\n",
       "property_size      0\n",
       "property_age       0\n",
       "bathroom           0\n",
       "facing             0\n",
       "cup_board          0\n",
       "floor              0\n",
       "total_floor        0\n",
       "amenities          0\n",
       "water_supply       0\n",
       "building_type      0\n",
       "balconies          0\n",
       "rent               0\n",
       "dtype: int64"
      ]
     },
     "execution_count": 11,
     "metadata": {},
     "output_type": "execute_result"
    }
   ],
   "source": [
    "df.isnull().sum()"
   ]
  },
  {
   "cell_type": "code",
   "execution_count": 12,
   "id": "2a9ac6ce-237f-44b7-8b43-f76e07662db1",
   "metadata": {},
   "outputs": [
    {
     "data": {
      "image/png": "[encoded data removed]",
      "text/plain": [
       "<Figure size 720x432 with 1 Axes>"
      ]
     },
     "metadata": {
      "needs_background": "light"
     },
     "output_type": "display_data"
    }
   ],
   "source": [
    "plt.figure(figsize=(10, 6))\n",
    "plt.scatter(df['property_size'], df['rent'])\n",
    "plt.xlabel('property_size')\n",
    "plt.ylabel('rent')\n",
    "plt.show()\n"
   ]
  },
  {
   "cell_type": "code",
   "execution_count": 13,
   "id": "a7d9932f-e999-4399-8031-e13cfeebc606",
   "metadata": {},
   "outputs": [
    {
     "data": {
      "image/png": "[encoded data removed]",
      "text/plain": [
       "<Figure size 576x432 with 1 Axes>"
      ]
     },
     "metadata": {
      "needs_background": "light"
     },
     "output_type": "display_data"
    }
   ],
   "source": [
    "plt.figure(figsize=(8, 6))\n",
    "sns.boxplot(x=df['property_size'])\n",
    "plt.title('Box Plot of property_size')\n",
    "plt.show()"
   ]
  },
  {
   "cell_type": "code",
   "execution_count": 14,
   "id": "bb0a5588-951c-4bed-9d0e-04c287c66d87",
   "metadata": {},
   "outputs": [
    {
     "data": {
      "image/png": "[encoded data removed]",
      "text/plain": [
       "<Figure size 720x432 with 1 Axes>"
      ]
     },
     "metadata": {
      "needs_background": "light"
     },
     "output_type": "display_data"
    }
   ],
   "source": [
    "plt.figure(figsize=(10, 6))\n",
    "sns.boxplot(data=df[['property_size', 'rent']])\n",
    "plt.title('Box Plot of property_size vs rent')\n",
    "plt.xlabel('Size and Rent')\n",
    "plt.show()"
   ]
  },
  {
   "cell_type": "code",
   "execution_count": 15,
   "id": "901c29fc-cc9e-49ad-82b2-13a1642930cb",
   "metadata": {},
   "outputs": [],
   "source": [
    "df1 = df.copy()"
   ]
  },
  {
   "cell_type": "code",
   "execution_count": 16,
   "id": "203642c7-54b5-4361-ae33-8d8451a3bfda",
   "metadata": {},
   "outputs": [
    {
     "data": {
      "text/plain": [
       "id                 0\n",
       "type               0\n",
       "locality           0\n",
       "activation_date    0\n",
       "latitude           0\n",
       "longitude          0\n",
       "lease_type         0\n",
       "gym                0\n",
       "lift               0\n",
       "swimming_pool      0\n",
       "negotiable         0\n",
       "furnishing         0\n",
       "parking            0\n",
       "property_size      0\n",
       "property_age       0\n",
       "bathroom           0\n",
       "facing             0\n",
       "cup_board          0\n",
       "floor              0\n",
       "total_floor        0\n",
       "amenities          0\n",
       "water_supply       0\n",
       "building_type      0\n",
       "balconies          0\n",
       "rent               0\n",
       "dtype: int64"
      ]
     },
     "execution_count": 16,
     "metadata": {},
     "output_type": "execute_result"
    }
   ],
   "source": [
    "df1.isnull().sum()"
   ]
  },
  {
   "cell_type": "code",
   "execution_count": 17,
   "id": "8ed8b4b9-f6af-42f7-81a0-1e9d21b816a1",
   "metadata": {},
   "outputs": [],
   "source": [
    "df1.drop(df1[df1['property_size'] > 5000].index, inplace=True)\n",
    "df1.drop(df1[df1['rent'] > 48000].index, inplace=True)"
   ]
  },
  {
   "cell_type": "code",
   "execution_count": 18,
   "id": "b3fd8f26-5031-4b7b-9aa1-067398a87b2e",
   "metadata": {},
   "outputs": [
    {
     "data": {
      "image/png": "[encoded data removed]",
      "text/plain": [
       "<Figure size 720x432 with 1 Axes>"
      ]
     },
     "metadata": {
      "needs_background": "light"
     },
     "output_type": "display_data"
    }
   ],
   "source": [
    "plt.figure(figsize=(10, 6))\n",
    "plt.scatter(df1['property_size'], df1['rent'])\n",
    "plt.title(\"Relation between Property_size and Rent\")\n",
    "plt.xlabel('property_size')\n",
    "plt.ylabel('rent')\n",
    "plt.show()"
   ]
  },
  {
   "cell_type": "code",
   "execution_count": 19,
   "id": "f4425a55-3996-4805-9126-c72d815ade43",
   "metadata": {},
   "outputs": [
    {
     "data": {
      "image/png": "[encoded data removed]",
      "text/plain": [
       "<Figure size 720x432 with 1 Axes>"
      ]
     },
     "metadata": {
      "needs_background": "light"
     },
     "output_type": "display_data"
    }
   ],
   "source": [
    "plt.figure(figsize=(10, 6))\n",
    "sns.boxplot(data=df1[['property_size', 'rent']])\n",
    "plt.title('Box Plot of property_size vs rent')\n",
    "plt.xlabel('Size and Rent')\n",
    "plt.show()"
   ]
  },
  {
   "cell_type": "code",
   "execution_count": 20,
   "id": "0c492f09-51a2-4d83-ab3f-a83a2c2606a0",
   "metadata": {},
   "outputs": [],
   "source": [
    "#Visualization"
   ]
  },
  {
   "cell_type": "code",
   "execution_count": 21,
   "id": "f4260996-ca65-4f80-af22-6538ddc9e256",
   "metadata": {},
   "outputs": [
    {
     "data": {
      "image/png": "[encoded data removed]",
      "text/plain": [
       "<Figure size 720x576 with 2 Axes>"
      ]
     },
     "metadata": {
      "needs_background": "light"
     },
     "output_type": "display_data"
    }
   ],
   "source": [
    "numeric_data = df1.select_dtypes(include=['float64', 'int64'])\n",
    "plt.figure(figsize=(10, 8))\n",
    "sns.heatmap(numeric_data.corr(),annot=True,cmap='RdBu', fmt=\".2f\")\n",
    "plt.show()"
   ]
  },
  {
   "cell_type": "code",
   "execution_count": null,
   "id": "4259edcc-5316-4778-a9c6-36e61b6ea051",
   "metadata": {},
   "outputs": [],
   "source": []
  },
  {
   "cell_type": "code",
   "execution_count": 22,
   "id": "00f39dca-94bb-440f-9628-983eb5d07113",
   "metadata": {},
   "outputs": [
    {
     "data": {
      "text/plain": [
       "'{\"LIFT\":true,\"GYM\":false,\"INTERNET\":false,\"AC\":false,\"CLUB\":false,\"INTERCOM\":false,\"POOL\":false,\"CPA\":false,\"FS\":false,\"SERVANT\":false,\"SECURITY\":true,\"SC\":true,\"GP\":false,\"PARK\":true,\"RWH\":true,\"STP\":true,\"HK\":false,\"PB\":true,\"VP\":true}'"
      ]
     },
     "execution_count": 22,
     "metadata": {},
     "output_type": "execute_result"
    }
   ],
   "source": [
    "df1.loc[1, \"amenities\"]"
   ]
  },
  {
   "cell_type": "code",
   "execution_count": 23,
   "id": "7fd72af7-240a-49e9-91e1-c69d41406486",
   "metadata": {},
   "outputs": [],
   "source": [
    "import json\n",
    "# Convert the string representation of the dictionary to a dictionary\n",
    "df1['amenities_dict'] = df1['amenities'].apply(lambda x: json.loads(x) if pd.notnull(x) else {})\n",
    "\n",
    "# Count the number of True values in each row of the amenities dictionary\n",
    "df1['true_count'] = df1['amenities_dict'].apply(lambda x: sum(value is True for value in x.values()))"
   ]
  },
  {
   "cell_type": "code",
   "execution_count": 24,
   "id": "8df27b9c-bd9d-4166-a75e-becd380b0304",
   "metadata": {},
   "outputs": [
    {
     "data": {
      "image/png": "[encoded data removed]",
      "text/plain": [
       "<Figure size 720x432 with 1 Axes>"
      ]
     },
     "metadata": {
      "needs_background": "light"
     },
     "output_type": "display_data"
    }
   ],
   "source": [
    "# Visualize the count of True amenities versus rent prices using a bar plot\n",
    "plt.figure(figsize=(10, 6))\n",
    "sns.barplot(x='true_count', y='rent', data=df1)\n",
    "plt.title('Count of True Amenities vs Rent Prices')\n",
    "plt.xlabel('Number of True Amenities')\n",
    "plt.ylabel('Rent Price')\n",
    "plt.show()"
   ]
  },
  {
   "cell_type": "code",
   "execution_count": 25,
   "id": "b2e60680-418e-4505-9b8d-35036d379705",
   "metadata": {},
   "outputs": [
    {
     "data": {
      "image/png": "[encoded data removed]",
      "text/plain": [
       "<Figure size 720x432 with 1 Axes>"
      ]
     },
     "metadata": {
      "needs_background": "light"
     },
     "output_type": "display_data"
    }
   ],
   "source": [
    "plt.figure(figsize=(10, 6))\n",
    "sns.scatterplot(x='longitude', y='latitude', hue='rent', data=df1, palette='viridis')\n",
    "plt.title('Scatter Plot of Latitude/Longitude vs. Rent Prices')\n",
    "plt.xlabel('Longitude')\n",
    "plt.ylabel('Latitude')\n",
    "plt.show()"
   ]
  },
  {
   "cell_type": "code",
   "execution_count": 26,
   "id": "26e78d27-fadc-47eb-a0c2-c7aa3b05289c",
   "metadata": {},
   "outputs": [
    {
     "name": "stdout",
     "output_type": "stream",
     "text": [
      "           latitude     longitude\n",
      "count  20532.000000  20532.000000\n",
      "mean      12.945748     77.637295\n",
      "std        0.029601      0.110525\n",
      "min       12.900004     77.500072\n",
      "25%       12.918176     77.572068\n",
      "50%       12.943790     77.633506\n",
      "75%       12.970979     77.695723\n",
      "max       12.999999     80.266346\n"
     ]
    }
   ],
   "source": [
    "print(df[['latitude', 'longitude']].describe())"
   ]
  },
  {
   "cell_type": "code",
   "execution_count": 27,
   "id": "33dbe829-c66a-4206-b63c-04cf13c26ad8",
   "metadata": {},
   "outputs": [
    {
     "data": {
      "text/html": [
       "<div>\n",
       "<style scoped>\n",
       "    .dataframe tbody tr th:only-of-type {\n",
       "        vertical-align: middle;\n",
       "    }\n",
       "\n",
       "    .dataframe tbody tr th {\n",
       "        vertical-align: top;\n",
       "    }\n",
       "\n",
       "    .dataframe thead th {\n",
       "        text-align: right;\n",
       "    }\n",
       "</style>\n",
       "<table border=\"1\" class=\"dataframe\">\n",
       "  <thead>\n",
       "    <tr style=\"text-align: right;\">\n",
       "      <th></th>\n",
       "      <th>id</th>\n",
       "      <th>type</th>\n",
       "      <th>locality</th>\n",
       "      <th>activation_date</th>\n",
       "      <th>latitude</th>\n",
       "      <th>longitude</th>\n",
       "      <th>lease_type</th>\n",
       "      <th>gym</th>\n",
       "      <th>lift</th>\n",
       "      <th>swimming_pool</th>\n",
       "      <th>...</th>\n",
       "      <th>cup_board</th>\n",
       "      <th>floor</th>\n",
       "      <th>total_floor</th>\n",
       "      <th>amenities</th>\n",
       "      <th>water_supply</th>\n",
       "      <th>building_type</th>\n",
       "      <th>balconies</th>\n",
       "      <th>rent</th>\n",
       "      <th>amenities_dict</th>\n",
       "      <th>true_count</th>\n",
       "    </tr>\n",
       "  </thead>\n",
       "  <tbody>\n",
       "    <tr>\n",
       "      <th>0</th>\n",
       "      <td>ff8081815733a243015733b2876600a6</td>\n",
       "      <td>BHK2</td>\n",
       "      <td>unknown</td>\n",
       "      <td>21-04-2018 14:44</td>\n",
       "      <td>12.934471</td>\n",
       "      <td>77.634471</td>\n",
       "      <td>FAMILY</td>\n",
       "      <td>1</td>\n",
       "      <td>1</td>\n",
       "      <td>1</td>\n",
       "      <td>...</td>\n",
       "      <td>2.0</td>\n",
       "      <td>6.0</td>\n",
       "      <td>12.0</td>\n",
       "      <td>{\"LIFT\":true,\"GYM\":true,\"INTERNET\":true,\"AC\":f...</td>\n",
       "      <td>CORP_BORE</td>\n",
       "      <td>AP</td>\n",
       "      <td>2.0</td>\n",
       "      <td>40000.0</td>\n",
       "      <td>{'LIFT': True, 'GYM': True, 'INTERNET': True, ...</td>\n",
       "      <td>15</td>\n",
       "    </tr>\n",
       "    <tr>\n",
       "      <th>1</th>\n",
       "      <td>ff8081815ee25e15015ee50004da2acd</td>\n",
       "      <td>BHK2</td>\n",
       "      <td>Bellandur</td>\n",
       "      <td>9/10/2017 12:48</td>\n",
       "      <td>12.929557</td>\n",
       "      <td>77.672280</td>\n",
       "      <td>ANYONE</td>\n",
       "      <td>0</td>\n",
       "      <td>1</td>\n",
       "      <td>0</td>\n",
       "      <td>...</td>\n",
       "      <td>2.0</td>\n",
       "      <td>3.0</td>\n",
       "      <td>4.0</td>\n",
       "      <td>{\"LIFT\":true,\"GYM\":false,\"INTERNET\":false,\"AC\"...</td>\n",
       "      <td>CORPORATION</td>\n",
       "      <td>AP</td>\n",
       "      <td>2.0</td>\n",
       "      <td>22000.0</td>\n",
       "      <td>{'LIFT': True, 'GYM': False, 'INTERNET': False...</td>\n",
       "      <td>8</td>\n",
       "    </tr>\n",
       "  </tbody>\n",
       "</table>\n",
       "<p>2 rows × 27 columns</p>\n",
       "</div>"
      ],
      "text/plain": [
       "                                 id  type   locality   activation_date  \\\n",
       "0  ff8081815733a243015733b2876600a6  BHK2    unknown  21-04-2018 14:44   \n",
       "1  ff8081815ee25e15015ee50004da2acd  BHK2  Bellandur   9/10/2017 12:48   \n",
       "\n",
       "    latitude  longitude lease_type  gym  lift  swimming_pool  ...  cup_board  \\\n",
       "0  12.934471  77.634471     FAMILY    1     1              1  ...        2.0   \n",
       "1  12.929557  77.672280     ANYONE    0     1              0  ...        2.0   \n",
       "\n",
       "  floor total_floor                                          amenities  \\\n",
       "0   6.0        12.0  {\"LIFT\":true,\"GYM\":true,\"INTERNET\":true,\"AC\":f...   \n",
       "1   3.0         4.0  {\"LIFT\":true,\"GYM\":false,\"INTERNET\":false,\"AC\"...   \n",
       "\n",
       "   water_supply  building_type balconies     rent  \\\n",
       "0     CORP_BORE             AP       2.0  40000.0   \n",
       "1   CORPORATION             AP       2.0  22000.0   \n",
       "\n",
       "                                      amenities_dict  true_count  \n",
       "0  {'LIFT': True, 'GYM': True, 'INTERNET': True, ...          15  \n",
       "1  {'LIFT': True, 'GYM': False, 'INTERNET': False...           8  \n",
       "\n",
       "[2 rows x 27 columns]"
      ]
     },
     "execution_count": 27,
     "metadata": {},
     "output_type": "execute_result"
    }
   ],
   "source": [
    "df1.head(2)"
   ]
  },
  {
   "cell_type": "code",
   "execution_count": 28,
   "id": "dd614f2f-cb35-47ff-8d12-442c91566086",
   "metadata": {},
   "outputs": [],
   "source": [
    "df_train = df1.copy()"
   ]
  },
  {
   "cell_type": "code",
   "execution_count": 29,
   "id": "7e24404a-b9d0-445d-83d4-372df29977ba",
   "metadata": {},
   "outputs": [
    {
     "data": {
      "text/html": [
       "<div>\n",
       "<style scoped>\n",
       "    .dataframe tbody tr th:only-of-type {\n",
       "        vertical-align: middle;\n",
       "    }\n",
       "\n",
       "    .dataframe tbody tr th {\n",
       "        vertical-align: top;\n",
       "    }\n",
       "\n",
       "    .dataframe thead th {\n",
       "        text-align: right;\n",
       "    }\n",
       "</style>\n",
       "<table border=\"1\" class=\"dataframe\">\n",
       "  <thead>\n",
       "    <tr style=\"text-align: right;\">\n",
       "      <th></th>\n",
       "      <th>id</th>\n",
       "      <th>type</th>\n",
       "      <th>locality</th>\n",
       "      <th>activation_date</th>\n",
       "      <th>latitude</th>\n",
       "      <th>longitude</th>\n",
       "      <th>lease_type</th>\n",
       "      <th>gym</th>\n",
       "      <th>lift</th>\n",
       "      <th>swimming_pool</th>\n",
       "      <th>...</th>\n",
       "      <th>cup_board</th>\n",
       "      <th>floor</th>\n",
       "      <th>total_floor</th>\n",
       "      <th>amenities</th>\n",
       "      <th>water_supply</th>\n",
       "      <th>building_type</th>\n",
       "      <th>balconies</th>\n",
       "      <th>rent</th>\n",
       "      <th>amenities_dict</th>\n",
       "      <th>true_count</th>\n",
       "    </tr>\n",
       "  </thead>\n",
       "  <tbody>\n",
       "    <tr>\n",
       "      <th>0</th>\n",
       "      <td>ff8081815733a243015733b2876600a6</td>\n",
       "      <td>BHK2</td>\n",
       "      <td>unknown</td>\n",
       "      <td>21-04-2018 14:44</td>\n",
       "      <td>12.934471</td>\n",
       "      <td>77.634471</td>\n",
       "      <td>FAMILY</td>\n",
       "      <td>1</td>\n",
       "      <td>1</td>\n",
       "      <td>1</td>\n",
       "      <td>...</td>\n",
       "      <td>2.0</td>\n",
       "      <td>6.0</td>\n",
       "      <td>12.0</td>\n",
       "      <td>{\"LIFT\":true,\"GYM\":true,\"INTERNET\":true,\"AC\":f...</td>\n",
       "      <td>CORP_BORE</td>\n",
       "      <td>AP</td>\n",
       "      <td>2.0</td>\n",
       "      <td>40000.0</td>\n",
       "      <td>{'LIFT': True, 'GYM': True, 'INTERNET': True, ...</td>\n",
       "      <td>15</td>\n",
       "    </tr>\n",
       "    <tr>\n",
       "      <th>1</th>\n",
       "      <td>ff8081815ee25e15015ee50004da2acd</td>\n",
       "      <td>BHK2</td>\n",
       "      <td>Bellandur</td>\n",
       "      <td>9/10/2017 12:48</td>\n",
       "      <td>12.929557</td>\n",
       "      <td>77.672280</td>\n",
       "      <td>ANYONE</td>\n",
       "      <td>0</td>\n",
       "      <td>1</td>\n",
       "      <td>0</td>\n",
       "      <td>...</td>\n",
       "      <td>2.0</td>\n",
       "      <td>3.0</td>\n",
       "      <td>4.0</td>\n",
       "      <td>{\"LIFT\":true,\"GYM\":false,\"INTERNET\":false,\"AC\"...</td>\n",
       "      <td>CORPORATION</td>\n",
       "      <td>AP</td>\n",
       "      <td>2.0</td>\n",
       "      <td>22000.0</td>\n",
       "      <td>{'LIFT': True, 'GYM': False, 'INTERNET': False...</td>\n",
       "      <td>8</td>\n",
       "    </tr>\n",
       "  </tbody>\n",
       "</table>\n",
       "<p>2 rows × 27 columns</p>\n",
       "</div>"
      ],
      "text/plain": [
       "                                 id  type   locality   activation_date  \\\n",
       "0  ff8081815733a243015733b2876600a6  BHK2    unknown  21-04-2018 14:44   \n",
       "1  ff8081815ee25e15015ee50004da2acd  BHK2  Bellandur   9/10/2017 12:48   \n",
       "\n",
       "    latitude  longitude lease_type  gym  lift  swimming_pool  ...  cup_board  \\\n",
       "0  12.934471  77.634471     FAMILY    1     1              1  ...        2.0   \n",
       "1  12.929557  77.672280     ANYONE    0     1              0  ...        2.0   \n",
       "\n",
       "  floor total_floor                                          amenities  \\\n",
       "0   6.0        12.0  {\"LIFT\":true,\"GYM\":true,\"INTERNET\":true,\"AC\":f...   \n",
       "1   3.0         4.0  {\"LIFT\":true,\"GYM\":false,\"INTERNET\":false,\"AC\"...   \n",
       "\n",
       "   water_supply  building_type balconies     rent  \\\n",
       "0     CORP_BORE             AP       2.0  40000.0   \n",
       "1   CORPORATION             AP       2.0  22000.0   \n",
       "\n",
       "                                      amenities_dict  true_count  \n",
       "0  {'LIFT': True, 'GYM': True, 'INTERNET': True, ...          15  \n",
       "1  {'LIFT': True, 'GYM': False, 'INTERNET': False...           8  \n",
       "\n",
       "[2 rows x 27 columns]"
      ]
     },
     "execution_count": 29,
     "metadata": {},
     "output_type": "execute_result"
    }
   ],
   "source": [
    "df_train.head(2)"
   ]
  },
  {
   "cell_type": "code",
   "execution_count": 30,
   "id": "e2fd2851-1e4b-4559-b50f-275f374697df",
   "metadata": {},
   "outputs": [
    {
     "name": "stdout",
     "output_type": "stream",
     "text": [
      "<class 'pandas.core.frame.DataFrame'>\n",
      "Index: 20396 entries, 0 to 20531\n",
      "Data columns (total 27 columns):\n",
      " #   Column           Non-Null Count  Dtype  \n",
      "---  ------           --------------  -----  \n",
      " 0   id               20396 non-null  object \n",
      " 1   type             20396 non-null  object \n",
      " 2   locality         20396 non-null  object \n",
      " 3   activation_date  20396 non-null  object \n",
      " 4   latitude         20396 non-null  float64\n",
      " 5   longitude        20396 non-null  float64\n",
      " 6   lease_type       20396 non-null  object \n",
      " 7   gym              20396 non-null  int64  \n",
      " 8   lift             20396 non-null  int64  \n",
      " 9   swimming_pool    20396 non-null  int64  \n",
      " 10  negotiable       20396 non-null  int64  \n",
      " 11  furnishing       20396 non-null  object \n",
      " 12  parking          20396 non-null  object \n",
      " 13  property_size    20396 non-null  int64  \n",
      " 14  property_age     20396 non-null  float64\n",
      " 15  bathroom         20396 non-null  float64\n",
      " 16  facing           20396 non-null  object \n",
      " 17  cup_board        20396 non-null  float64\n",
      " 18  floor            20396 non-null  float64\n",
      " 19  total_floor      20396 non-null  float64\n",
      " 20  amenities        20396 non-null  object \n",
      " 21  water_supply     20396 non-null  object \n",
      " 22  building_type    20396 non-null  object \n",
      " 23  balconies        20396 non-null  float64\n",
      " 24  rent             20396 non-null  float64\n",
      " 25  amenities_dict   20396 non-null  object \n",
      " 26  true_count       20396 non-null  int64  \n",
      "dtypes: float64(9), int64(6), object(12)\n",
      "memory usage: 4.9+ MB\n"
     ]
    }
   ],
   "source": [
    "df_train.info()"
   ]
  },
  {
   "cell_type": "code",
   "execution_count": 31,
   "id": "b2543dcb-adf8-4717-ad12-0083b141e60c",
   "metadata": {},
   "outputs": [],
   "source": [
    "column_to_drop = [0,3,4,5,10,14,20,22,25]\n",
    "\n",
    "# Drop the specified columns based on indices\n",
    "df_train = df_train.drop(df_train.columns[column_to_drop], axis=1)"
   ]
  },
  {
   "cell_type": "code",
   "execution_count": 32,
   "id": "6871a9ce-e8c7-4647-9896-6bf4a05844d1",
   "metadata": {},
   "outputs": [
    {
     "name": "stdout",
     "output_type": "stream",
     "text": [
      "<class 'pandas.core.frame.DataFrame'>\n",
      "Index: 20396 entries, 0 to 20531\n",
      "Data columns (total 18 columns):\n",
      " #   Column         Non-Null Count  Dtype  \n",
      "---  ------         --------------  -----  \n",
      " 0   type           20396 non-null  object \n",
      " 1   locality       20396 non-null  object \n",
      " 2   lease_type     20396 non-null  object \n",
      " 3   gym            20396 non-null  int64  \n",
      " 4   lift           20396 non-null  int64  \n",
      " 5   swimming_pool  20396 non-null  int64  \n",
      " 6   furnishing     20396 non-null  object \n",
      " 7   parking        20396 non-null  object \n",
      " 8   property_size  20396 non-null  int64  \n",
      " 9   bathroom       20396 non-null  float64\n",
      " 10  facing         20396 non-null  object \n",
      " 11  cup_board      20396 non-null  float64\n",
      " 12  floor          20396 non-null  float64\n",
      " 13  total_floor    20396 non-null  float64\n",
      " 14  water_supply   20396 non-null  object \n",
      " 15  balconies      20396 non-null  float64\n",
      " 16  rent           20396 non-null  float64\n",
      " 17  true_count     20396 non-null  int64  \n",
      "dtypes: float64(6), int64(5), object(7)\n",
      "memory usage: 3.5+ MB\n"
     ]
    }
   ],
   "source": [
    "df_train.info()"
   ]
  },
  {
   "cell_type": "code",
   "execution_count": 33,
   "id": "c413b46c-f3cd-49ff-a1a8-2897e53732a9",
   "metadata": {},
   "outputs": [
    {
     "data": {
      "text/plain": [
       "array(['BHK2', 'BHK3', 'BHK1', 'RK1', 'BHK4', 'BHK4PLUS', '1BHK1', 'bhk2',\n",
       "       'bhk3', 'unknown'], dtype=object)"
      ]
     },
     "execution_count": 33,
     "metadata": {},
     "output_type": "execute_result"
    }
   ],
   "source": [
    "df_train[\"type\"].unique()"
   ]
  },
  {
   "cell_type": "code",
   "execution_count": 34,
   "id": "cdd249ad-6d02-4a5b-bf4e-159f7302d95f",
   "metadata": {},
   "outputs": [
    {
     "data": {
      "text/plain": [
       "array(['SEMI_FURNISHED', 'FULLY_FURNISHED', 'NOT_FURNISHED'], dtype=object)"
      ]
     },
     "execution_count": 34,
     "metadata": {},
     "output_type": "execute_result"
    }
   ],
   "source": [
    "df_train[\"furnishing\"].unique()"
   ]
  },
  {
   "cell_type": "code",
   "execution_count": 35,
   "id": "0af53e38-b0bb-413b-9c01-5bd56638d160",
   "metadata": {},
   "outputs": [],
   "source": [
    "df_train['type'] = df_train['type'].replace('bhk2', 'BHK2')\n",
    "df_train['type'] = df_train['type'].replace('bhk3', 'BHK3')\n",
    "df_train['type'] = df_train['type'].replace('1BHK1', 'BHK1')"
   ]
  },
  {
   "cell_type": "code",
   "execution_count": 36,
   "id": "cb79d0a1-8965-42ec-af1c-01d558f1b329",
   "metadata": {},
   "outputs": [
    {
     "data": {
      "text/plain": [
       "array(['BHK2', 'BHK3', 'BHK1', 'RK1', 'BHK4', 'BHK4PLUS', 'unknown'],\n",
       "      dtype=object)"
      ]
     },
     "execution_count": 36,
     "metadata": {},
     "output_type": "execute_result"
    }
   ],
   "source": [
    "df_train[\"type\"].unique()"
   ]
  },
  {
   "cell_type": "code",
   "execution_count": 37,
   "id": "74cd8505-b32c-4f72-8bc4-3e188fa24842",
   "metadata": {},
   "outputs": [
    {
     "name": "stdout",
     "output_type": "stream",
     "text": [
      "<class 'pandas.core.frame.DataFrame'>\n",
      "Index: 20396 entries, 0 to 20531\n",
      "Data columns (total 18 columns):\n",
      " #   Column         Non-Null Count  Dtype  \n",
      "---  ------         --------------  -----  \n",
      " 0   type           20396 non-null  object \n",
      " 1   locality       20396 non-null  object \n",
      " 2   lease_type     20396 non-null  object \n",
      " 3   gym            20396 non-null  int64  \n",
      " 4   lift           20396 non-null  int64  \n",
      " 5   swimming_pool  20396 non-null  int64  \n",
      " 6   furnishing     20396 non-null  object \n",
      " 7   parking        20396 non-null  object \n",
      " 8   property_size  20396 non-null  int64  \n",
      " 9   bathroom       20396 non-null  float64\n",
      " 10  facing         20396 non-null  object \n",
      " 11  cup_board      20396 non-null  float64\n",
      " 12  floor          20396 non-null  float64\n",
      " 13  total_floor    20396 non-null  float64\n",
      " 14  water_supply   20396 non-null  object \n",
      " 15  balconies      20396 non-null  float64\n",
      " 16  rent           20396 non-null  float64\n",
      " 17  true_count     20396 non-null  int64  \n",
      "dtypes: float64(6), int64(5), object(7)\n",
      "memory usage: 3.5+ MB\n"
     ]
    }
   ],
   "source": [
    "df_train.info()"
   ]
  },
  {
   "cell_type": "code",
   "execution_count": 38,
   "id": "beedc079-c07a-4511-ae71-a46f549ebe4a",
   "metadata": {},
   "outputs": [
    {
     "data": {
      "text/plain": [
       "18"
      ]
     },
     "execution_count": 38,
     "metadata": {},
     "output_type": "execute_result"
    }
   ],
   "source": [
    "df_train['type'].value_counts().get('unknown', 0)"
   ]
  },
  {
   "cell_type": "code",
   "execution_count": 39,
   "id": "93078e08-93b2-46e9-b381-047ef5c33b36",
   "metadata": {},
   "outputs": [],
   "source": [
    "df_train.drop(df_train[df_train['type'] == 'unknown'].index, inplace=True)"
   ]
  },
  {
   "cell_type": "code",
   "execution_count": 40,
   "id": "1e269d6e-3868-4e26-9051-c7faf5304f46",
   "metadata": {},
   "outputs": [
    {
     "data": {
      "text/plain": [
       "array(['BHK2', 'BHK3', 'BHK1', 'RK1', 'BHK4', 'BHK4PLUS'], dtype=object)"
      ]
     },
     "execution_count": 40,
     "metadata": {},
     "output_type": "execute_result"
    }
   ],
   "source": [
    "df_train[\"type\"].unique()"
   ]
  },
  {
   "cell_type": "code",
   "execution_count": 41,
   "id": "7a2cab12-1196-4d70-a82a-a8cb92dc0ce9",
   "metadata": {},
   "outputs": [],
   "source": [
    "from sklearn.preprocessing import OrdinalEncoder\n",
    "ordinal_columns = ['type', 'furnishing']\n",
    "ordinal_encoder = OrdinalEncoder(categories=[\n",
    "    ['RK1','BHK1', 'BHK2', 'BHK3', 'BHK4','BHK4PLUS'],  # type\n",
    "    ['NOT_FURNISHED', 'SEMI_FURNISHED', 'FULLY_FURNISHED'],  # furnishing\n",
    "])\n",
    "\n",
    "# Apply ordinal encoding to multiple columns\n",
    "df_train[ordinal_columns] = ordinal_encoder.fit_transform(df_train[ordinal_columns])"
   ]
  },
  {
   "cell_type": "code",
   "execution_count": 42,
   "id": "b715fa9c-a0e2-4884-a20c-fa60cd49c481",
   "metadata": {},
   "outputs": [
    {
     "name": "stdout",
     "output_type": "stream",
     "text": [
      "<class 'pandas.core.frame.DataFrame'>\n",
      "Index: 20378 entries, 0 to 20531\n",
      "Data columns (total 18 columns):\n",
      " #   Column         Non-Null Count  Dtype  \n",
      "---  ------         --------------  -----  \n",
      " 0   type           20378 non-null  float64\n",
      " 1   locality       20378 non-null  object \n",
      " 2   lease_type     20378 non-null  object \n",
      " 3   gym            20378 non-null  int64  \n",
      " 4   lift           20378 non-null  int64  \n",
      " 5   swimming_pool  20378 non-null  int64  \n",
      " 6   furnishing     20378 non-null  float64\n",
      " 7   parking        20378 non-null  object \n",
      " 8   property_size  20378 non-null  int64  \n",
      " 9   bathroom       20378 non-null  float64\n",
      " 10  facing         20378 non-null  object \n",
      " 11  cup_board      20378 non-null  float64\n",
      " 12  floor          20378 non-null  float64\n",
      " 13  total_floor    20378 non-null  float64\n",
      " 14  water_supply   20378 non-null  object \n",
      " 15  balconies      20378 non-null  float64\n",
      " 16  rent           20378 non-null  float64\n",
      " 17  true_count     20378 non-null  int64  \n",
      "dtypes: float64(8), int64(5), object(5)\n",
      "memory usage: 3.0+ MB\n"
     ]
    }
   ],
   "source": [
    "df_train.info()"
   ]
  },
  {
   "cell_type": "code",
   "execution_count": 43,
   "id": "f2dfef58-bc04-4df7-a6ab-f6f584471027",
   "metadata": {},
   "outputs": [],
   "source": [
    "categorical_columns_train = df_train.select_dtypes(include=['object']).columns\n",
    "df_train_encoded = pd.get_dummies(df_train, columns=categorical_columns_train, prefix=categorical_columns_train)"
   ]
  },
  {
   "cell_type": "code",
   "execution_count": 44,
   "id": "a41392bc-cc8f-4dac-85ae-4a1cd63147b2",
   "metadata": {},
   "outputs": [],
   "source": [
    "df_train_final = pd.concat([df_train, df_train_encoded], axis=1)\n",
    "df_train_final = df_train_final.drop(categorical_columns_train, axis=1)"
   ]
  },
  {
   "cell_type": "code",
   "execution_count": 45,
   "id": "37884e44-5bc2-4b4c-a9c7-57536492a7d9",
   "metadata": {},
   "outputs": [
    {
     "data": {
      "text/html": [
       "<div>\n",
       "<style scoped>\n",
       "    .dataframe tbody tr th:only-of-type {\n",
       "        vertical-align: middle;\n",
       "    }\n",
       "\n",
       "    .dataframe tbody tr th {\n",
       "        vertical-align: top;\n",
       "    }\n",
       "\n",
       "    .dataframe thead th {\n",
       "        text-align: right;\n",
       "    }\n",
       "</style>\n",
       "<table border=\"1\" class=\"dataframe\">\n",
       "  <thead>\n",
       "    <tr style=\"text-align: right;\">\n",
       "      <th></th>\n",
       "      <th>type</th>\n",
       "      <th>gym</th>\n",
       "      <th>lift</th>\n",
       "      <th>swimming_pool</th>\n",
       "      <th>furnishing</th>\n",
       "      <th>property_size</th>\n",
       "      <th>bathroom</th>\n",
       "      <th>cup_board</th>\n",
       "      <th>floor</th>\n",
       "      <th>total_floor</th>\n",
       "      <th>...</th>\n",
       "      <th>facing_N</th>\n",
       "      <th>facing_NE</th>\n",
       "      <th>facing_NW</th>\n",
       "      <th>facing_S</th>\n",
       "      <th>facing_SE</th>\n",
       "      <th>facing_SW</th>\n",
       "      <th>facing_W</th>\n",
       "      <th>water_supply_BOREWELL</th>\n",
       "      <th>water_supply_CORPORATION</th>\n",
       "      <th>water_supply_CORP_BORE</th>\n",
       "    </tr>\n",
       "  </thead>\n",
       "  <tbody>\n",
       "    <tr>\n",
       "      <th>0</th>\n",
       "      <td>2.0</td>\n",
       "      <td>1</td>\n",
       "      <td>1</td>\n",
       "      <td>1</td>\n",
       "      <td>1.0</td>\n",
       "      <td>1250</td>\n",
       "      <td>2.0</td>\n",
       "      <td>2.0</td>\n",
       "      <td>6.0</td>\n",
       "      <td>12.0</td>\n",
       "      <td>...</td>\n",
       "      <td>False</td>\n",
       "      <td>False</td>\n",
       "      <td>False</td>\n",
       "      <td>False</td>\n",
       "      <td>False</td>\n",
       "      <td>False</td>\n",
       "      <td>False</td>\n",
       "      <td>False</td>\n",
       "      <td>False</td>\n",
       "      <td>True</td>\n",
       "    </tr>\n",
       "    <tr>\n",
       "      <th>1</th>\n",
       "      <td>2.0</td>\n",
       "      <td>0</td>\n",
       "      <td>1</td>\n",
       "      <td>0</td>\n",
       "      <td>1.0</td>\n",
       "      <td>1400</td>\n",
       "      <td>2.0</td>\n",
       "      <td>2.0</td>\n",
       "      <td>3.0</td>\n",
       "      <td>4.0</td>\n",
       "      <td>...</td>\n",
       "      <td>False</td>\n",
       "      <td>True</td>\n",
       "      <td>False</td>\n",
       "      <td>False</td>\n",
       "      <td>False</td>\n",
       "      <td>False</td>\n",
       "      <td>False</td>\n",
       "      <td>False</td>\n",
       "      <td>True</td>\n",
       "      <td>False</td>\n",
       "    </tr>\n",
       "  </tbody>\n",
       "</table>\n",
       "<p>2 rows × 1958 columns</p>\n",
       "</div>"
      ],
      "text/plain": [
       "   type  gym  lift  swimming_pool  furnishing  property_size  bathroom  \\\n",
       "0   2.0    1     1              1         1.0           1250       2.0   \n",
       "1   2.0    0     1              0         1.0           1400       2.0   \n",
       "\n",
       "   cup_board  floor  total_floor  ...  facing_N  facing_NE  facing_NW  \\\n",
       "0        2.0    6.0         12.0  ...     False      False      False   \n",
       "1        2.0    3.0          4.0  ...     False       True      False   \n",
       "\n",
       "   facing_S  facing_SE  facing_SW  facing_W  water_supply_BOREWELL  \\\n",
       "0     False      False      False     False                  False   \n",
       "1     False      False      False     False                  False   \n",
       "\n",
       "   water_supply_CORPORATION  water_supply_CORP_BORE  \n",
       "0                     False                    True  \n",
       "1                      True                   False  \n",
       "\n",
       "[2 rows x 1958 columns]"
      ]
     },
     "execution_count": 45,
     "metadata": {},
     "output_type": "execute_result"
    }
   ],
   "source": [
    "df_train_final.head(2)"
   ]
  },
  {
   "cell_type": "code",
   "execution_count": 46,
   "id": "ff16736a-6b02-4362-8981-1dd2aac25b7c",
   "metadata": {},
   "outputs": [
    {
     "name": "stdout",
     "output_type": "stream",
     "text": [
      "<class 'pandas.core.frame.DataFrame'>\n",
      "Index: 20378 entries, 0 to 20531\n",
      "Columns: 1958 entries, type to water_supply_CORP_BORE\n",
      "dtypes: bool(1932), float64(16), int64(10)\n",
      "memory usage: 41.7 MB\n"
     ]
    }
   ],
   "source": [
    "df_train_final.info()"
   ]
  },
  {
   "cell_type": "code",
   "execution_count": 47,
   "id": "b8393d8e-9cab-4dd9-8a2f-2c30173caffe",
   "metadata": {},
   "outputs": [],
   "source": [
    "df_test = pd.read_csv(\"C:\\Guvi_projects\\Smart_model_prediction\\House_Rent_Test.csv\")"
   ]
  },
  {
   "cell_type": "code",
   "execution_count": 48,
   "id": "301fbccb-84cd-47f1-be35-a09700f1bde7",
   "metadata": {},
   "outputs": [
    {
     "name": "stdout",
     "output_type": "stream",
     "text": [
      "<class 'pandas.core.frame.DataFrame'>\n",
      "RangeIndex: 4500 entries, 0 to 4499\n",
      "Data columns (total 24 columns):\n",
      " #   Column           Non-Null Count  Dtype  \n",
      "---  ------           --------------  -----  \n",
      " 0   id               4500 non-null   object \n",
      " 1   type             4500 non-null   object \n",
      " 2   locality         4500 non-null   object \n",
      " 3   activation_date  4500 non-null   object \n",
      " 4   latitude         4500 non-null   float64\n",
      " 5   longitude        4500 non-null   float64\n",
      " 6   lease_type       4500 non-null   object \n",
      " 7   gym              4500 non-null   int64  \n",
      " 8   lift             4500 non-null   int64  \n",
      " 9   swimming_pool    4500 non-null   int64  \n",
      " 10  negotiable       4500 non-null   int64  \n",
      " 11  furnishing       4500 non-null   object \n",
      " 12  parking          4500 non-null   object \n",
      " 13  property_size    4500 non-null   int64  \n",
      " 14  property_age     4500 non-null   int64  \n",
      " 15  bathroom         4500 non-null   int64  \n",
      " 16  facing           4500 non-null   object \n",
      " 17  cup_board        4500 non-null   int64  \n",
      " 18  floor            4500 non-null   int64  \n",
      " 19  total_floor      4500 non-null   int64  \n",
      " 20  amenities        4500 non-null   object \n",
      " 21  water_supply     4500 non-null   object \n",
      " 22  building_type    4500 non-null   object \n",
      " 23  balconies        4500 non-null   int64  \n",
      "dtypes: float64(2), int64(11), object(11)\n",
      "memory usage: 843.9+ KB\n"
     ]
    }
   ],
   "source": [
    "df_test.info()"
   ]
  },
  {
   "cell_type": "code",
   "execution_count": 49,
   "id": "97fcc805-4b79-4fb5-be7e-0bb0f612cf8f",
   "metadata": {},
   "outputs": [],
   "source": [
    "import json\n",
    "# Convert the string representation of the dictionary to a dictionary\n",
    "df_test['amenities_dict'] = df_test['amenities'].apply(lambda x: json.loads(x) if pd.notnull(x) else {})\n",
    "\n",
    "# Count the number of True values in each row of the amenities dictionary\n",
    "df_test['true_count'] = df_test['amenities_dict'].apply(lambda x: sum(value is True for value in x.values()))"
   ]
  },
  {
   "cell_type": "code",
   "execution_count": 50,
   "id": "702af50e-9a0e-490d-830a-67a52b189825",
   "metadata": {},
   "outputs": [
    {
     "name": "stdout",
     "output_type": "stream",
     "text": [
      "<class 'pandas.core.frame.DataFrame'>\n",
      "RangeIndex: 4500 entries, 0 to 4499\n",
      "Data columns (total 26 columns):\n",
      " #   Column           Non-Null Count  Dtype  \n",
      "---  ------           --------------  -----  \n",
      " 0   id               4500 non-null   object \n",
      " 1   type             4500 non-null   object \n",
      " 2   locality         4500 non-null   object \n",
      " 3   activation_date  4500 non-null   object \n",
      " 4   latitude         4500 non-null   float64\n",
      " 5   longitude        4500 non-null   float64\n",
      " 6   lease_type       4500 non-null   object \n",
      " 7   gym              4500 non-null   int64  \n",
      " 8   lift             4500 non-null   int64  \n",
      " 9   swimming_pool    4500 non-null   int64  \n",
      " 10  negotiable       4500 non-null   int64  \n",
      " 11  furnishing       4500 non-null   object \n",
      " 12  parking          4500 non-null   object \n",
      " 13  property_size    4500 non-null   int64  \n",
      " 14  property_age     4500 non-null   int64  \n",
      " 15  bathroom         4500 non-null   int64  \n",
      " 16  facing           4500 non-null   object \n",
      " 17  cup_board        4500 non-null   int64  \n",
      " 18  floor            4500 non-null   int64  \n",
      " 19  total_floor      4500 non-null   int64  \n",
      " 20  amenities        4500 non-null   object \n",
      " 21  water_supply     4500 non-null   object \n",
      " 22  building_type    4500 non-null   object \n",
      " 23  balconies        4500 non-null   int64  \n",
      " 24  amenities_dict   4500 non-null   object \n",
      " 25  true_count       4500 non-null   int64  \n",
      "dtypes: float64(2), int64(12), object(12)\n",
      "memory usage: 914.2+ KB\n"
     ]
    }
   ],
   "source": [
    "df_test.info()"
   ]
  },
  {
   "cell_type": "code",
   "execution_count": 51,
   "id": "add1ced5-cf20-4f90-857d-87eb16af2e77",
   "metadata": {},
   "outputs": [],
   "source": [
    "column_to_drop_test = [0,3,4,5,10,14,20,22,24]\n",
    "\n",
    "# Drop the specified columns based on indices\n",
    "df_test = df_test.drop(df_test.columns[column_to_drop_test], axis=1)"
   ]
  },
  {
   "cell_type": "code",
   "execution_count": 52,
   "id": "8c45d0a0-2229-4e87-ad38-575b2036d636",
   "metadata": {},
   "outputs": [
    {
     "name": "stdout",
     "output_type": "stream",
     "text": [
      "<class 'pandas.core.frame.DataFrame'>\n",
      "RangeIndex: 4500 entries, 0 to 4499\n",
      "Data columns (total 17 columns):\n",
      " #   Column         Non-Null Count  Dtype \n",
      "---  ------         --------------  ----- \n",
      " 0   type           4500 non-null   object\n",
      " 1   locality       4500 non-null   object\n",
      " 2   lease_type     4500 non-null   object\n",
      " 3   gym            4500 non-null   int64 \n",
      " 4   lift           4500 non-null   int64 \n",
      " 5   swimming_pool  4500 non-null   int64 \n",
      " 6   furnishing     4500 non-null   object\n",
      " 7   parking        4500 non-null   object\n",
      " 8   property_size  4500 non-null   int64 \n",
      " 9   bathroom       4500 non-null   int64 \n",
      " 10  facing         4500 non-null   object\n",
      " 11  cup_board      4500 non-null   int64 \n",
      " 12  floor          4500 non-null   int64 \n",
      " 13  total_floor    4500 non-null   int64 \n",
      " 14  water_supply   4500 non-null   object\n",
      " 15  balconies      4500 non-null   int64 \n",
      " 16  true_count     4500 non-null   int64 \n",
      "dtypes: int64(10), object(7)\n",
      "memory usage: 597.8+ KB\n"
     ]
    }
   ],
   "source": [
    "df_test.info()"
   ]
  },
  {
   "cell_type": "code",
   "execution_count": 53,
   "id": "e97ca126-9796-4312-9244-c3b510254664",
   "metadata": {},
   "outputs": [
    {
     "data": {
      "text/plain": [
       "array(['BHK2', 'BHK1', 'BHK3', 'RK1', 'BHK4', 'BHK4PLUS'], dtype=object)"
      ]
     },
     "execution_count": 53,
     "metadata": {},
     "output_type": "execute_result"
    }
   ],
   "source": [
    "df_test[\"type\"].unique()"
   ]
  },
  {
   "cell_type": "code",
   "execution_count": 54,
   "id": "5bd20ac8-f5bb-43fb-9c34-a40c294259a9",
   "metadata": {},
   "outputs": [],
   "source": [
    "from sklearn.preprocessing import OrdinalEncoder\n",
    "ordinal_columns_test = ['type', 'furnishing']\n",
    "ordinal_encoder_test = OrdinalEncoder(categories=[\n",
    "    ['RK1','BHK1', 'BHK2', 'BHK3', 'BHK4','BHK4PLUS'],  # type\n",
    "    ['NOT_FURNISHED', 'SEMI_FURNISHED', 'FULLY_FURNISHED'],  # furnishing\n",
    "])\n",
    "\n",
    "# Apply ordinal encoding to multiple columns\n",
    "df_test[ordinal_columns] = ordinal_encoder.fit_transform(df_test[ordinal_columns])"
   ]
  },
  {
   "cell_type": "code",
   "execution_count": 55,
   "id": "c4d97b3d-b680-4964-b10b-0838eac4f28e",
   "metadata": {},
   "outputs": [
    {
     "name": "stdout",
     "output_type": "stream",
     "text": [
      "<class 'pandas.core.frame.DataFrame'>\n",
      "RangeIndex: 4500 entries, 0 to 4499\n",
      "Data columns (total 17 columns):\n",
      " #   Column         Non-Null Count  Dtype  \n",
      "---  ------         --------------  -----  \n",
      " 0   type           4500 non-null   float64\n",
      " 1   locality       4500 non-null   object \n",
      " 2   lease_type     4500 non-null   object \n",
      " 3   gym            4500 non-null   int64  \n",
      " 4   lift           4500 non-null   int64  \n",
      " 5   swimming_pool  4500 non-null   int64  \n",
      " 6   furnishing     4500 non-null   float64\n",
      " 7   parking        4500 non-null   object \n",
      " 8   property_size  4500 non-null   int64  \n",
      " 9   bathroom       4500 non-null   int64  \n",
      " 10  facing         4500 non-null   object \n",
      " 11  cup_board      4500 non-null   int64  \n",
      " 12  floor          4500 non-null   int64  \n",
      " 13  total_floor    4500 non-null   int64  \n",
      " 14  water_supply   4500 non-null   object \n",
      " 15  balconies      4500 non-null   int64  \n",
      " 16  true_count     4500 non-null   int64  \n",
      "dtypes: float64(2), int64(10), object(5)\n",
      "memory usage: 597.8+ KB\n"
     ]
    }
   ],
   "source": [
    "df_test.info()"
   ]
  },
  {
   "cell_type": "code",
   "execution_count": 56,
   "id": "34d7408f-dbb8-413d-af79-9d54512831a5",
   "metadata": {},
   "outputs": [],
   "source": [
    "categorical_columns_test = df_test.select_dtypes(include=['object']).columns\n",
    "df_test_encoded = pd.get_dummies(df_test, columns=categorical_columns_test, prefix=categorical_columns_test)"
   ]
  },
  {
   "cell_type": "code",
   "execution_count": 57,
   "id": "afb5c197-b369-49f5-80d9-deb32d0094f9",
   "metadata": {},
   "outputs": [],
   "source": [
    "df_test_final = pd.concat([df_test, df_test_encoded], axis=1)\n",
    "df_test_final = df_test_final.drop(categorical_columns_train, axis=1)"
   ]
  },
  {
   "cell_type": "code",
   "execution_count": 58,
   "id": "af72b22d-c193-4a96-a98b-552b8cd38208",
   "metadata": {},
   "outputs": [
    {
     "data": {
      "text/html": [
       "<div>\n",
       "<style scoped>\n",
       "    .dataframe tbody tr th:only-of-type {\n",
       "        vertical-align: middle;\n",
       "    }\n",
       "\n",
       "    .dataframe tbody tr th {\n",
       "        vertical-align: top;\n",
       "    }\n",
       "\n",
       "    .dataframe thead th {\n",
       "        text-align: right;\n",
       "    }\n",
       "</style>\n",
       "<table border=\"1\" class=\"dataframe\">\n",
       "  <thead>\n",
       "    <tr style=\"text-align: right;\">\n",
       "      <th></th>\n",
       "      <th>type</th>\n",
       "      <th>gym</th>\n",
       "      <th>lift</th>\n",
       "      <th>swimming_pool</th>\n",
       "      <th>furnishing</th>\n",
       "      <th>property_size</th>\n",
       "      <th>bathroom</th>\n",
       "      <th>cup_board</th>\n",
       "      <th>floor</th>\n",
       "      <th>total_floor</th>\n",
       "      <th>...</th>\n",
       "      <th>facing_N</th>\n",
       "      <th>facing_NE</th>\n",
       "      <th>facing_NW</th>\n",
       "      <th>facing_S</th>\n",
       "      <th>facing_SE</th>\n",
       "      <th>facing_SW</th>\n",
       "      <th>facing_W</th>\n",
       "      <th>water_supply_BOREWELL</th>\n",
       "      <th>water_supply_CORPORATION</th>\n",
       "      <th>water_supply_CORP_BORE</th>\n",
       "    </tr>\n",
       "  </thead>\n",
       "  <tbody>\n",
       "    <tr>\n",
       "      <th>0</th>\n",
       "      <td>2.0</td>\n",
       "      <td>0</td>\n",
       "      <td>1</td>\n",
       "      <td>0</td>\n",
       "      <td>1.0</td>\n",
       "      <td>1300</td>\n",
       "      <td>2</td>\n",
       "      <td>2</td>\n",
       "      <td>3</td>\n",
       "      <td>3</td>\n",
       "      <td>...</td>\n",
       "      <td>True</td>\n",
       "      <td>False</td>\n",
       "      <td>False</td>\n",
       "      <td>False</td>\n",
       "      <td>False</td>\n",
       "      <td>False</td>\n",
       "      <td>False</td>\n",
       "      <td>False</td>\n",
       "      <td>False</td>\n",
       "      <td>True</td>\n",
       "    </tr>\n",
       "    <tr>\n",
       "      <th>1</th>\n",
       "      <td>2.0</td>\n",
       "      <td>0</td>\n",
       "      <td>0</td>\n",
       "      <td>0</td>\n",
       "      <td>1.0</td>\n",
       "      <td>600</td>\n",
       "      <td>1</td>\n",
       "      <td>2</td>\n",
       "      <td>0</td>\n",
       "      <td>3</td>\n",
       "      <td>...</td>\n",
       "      <td>False</td>\n",
       "      <td>False</td>\n",
       "      <td>False</td>\n",
       "      <td>True</td>\n",
       "      <td>False</td>\n",
       "      <td>False</td>\n",
       "      <td>False</td>\n",
       "      <td>False</td>\n",
       "      <td>True</td>\n",
       "      <td>False</td>\n",
       "    </tr>\n",
       "  </tbody>\n",
       "</table>\n",
       "<p>2 rows × 835 columns</p>\n",
       "</div>"
      ],
      "text/plain": [
       "   type  gym  lift  swimming_pool  furnishing  property_size  bathroom  \\\n",
       "0   2.0    0     1              0         1.0           1300         2   \n",
       "1   2.0    0     0              0         1.0            600         1   \n",
       "\n",
       "   cup_board  floor  total_floor  ...  facing_N  facing_NE  facing_NW  \\\n",
       "0          2      3            3  ...      True      False      False   \n",
       "1          2      0            3  ...     False      False      False   \n",
       "\n",
       "   facing_S  facing_SE  facing_SW  facing_W  water_supply_BOREWELL  \\\n",
       "0     False      False      False     False                  False   \n",
       "1      True      False      False     False                  False   \n",
       "\n",
       "   water_supply_CORPORATION  water_supply_CORP_BORE  \n",
       "0                     False                    True  \n",
       "1                      True                   False  \n",
       "\n",
       "[2 rows x 835 columns]"
      ]
     },
     "execution_count": 58,
     "metadata": {},
     "output_type": "execute_result"
    }
   ],
   "source": [
    "df_test_final.head(2)"
   ]
  },
  {
   "cell_type": "code",
   "execution_count": 59,
   "id": "a8ded5c4-09ac-48f4-b59d-e954df922374",
   "metadata": {},
   "outputs": [
    {
     "name": "stdout",
     "output_type": "stream",
     "text": [
      "<class 'pandas.core.frame.DataFrame'>\n",
      "Index: 20378 entries, 0 to 20531\n",
      "Columns: 1958 entries, type to water_supply_CORP_BORE\n",
      "dtypes: bool(1932), float64(16), int64(10)\n",
      "memory usage: 41.7 MB\n"
     ]
    }
   ],
   "source": [
    "df_train_final.info()"
   ]
  },
  {
   "cell_type": "code",
   "execution_count": 60,
   "id": "96e0d810-6c64-4aab-9049-4fd0e79487b4",
   "metadata": {},
   "outputs": [
    {
     "data": {
      "text/plain": [
       "rent    48000.0\n",
       "rent    48000.0\n",
       "dtype: float64"
      ]
     },
     "execution_count": 60,
     "metadata": {},
     "output_type": "execute_result"
    }
   ],
   "source": [
    "df_train_final[\"rent\"].max()\n"
   ]
  },
  {
   "cell_type": "code",
   "execution_count": 61,
   "id": "6155c6cf-6b7d-456b-9404-cbec42bfac01",
   "metadata": {},
   "outputs": [
    {
     "data": {
      "text/plain": [
       "rent    8000.0\n",
       "rent    8000.0\n",
       "dtype: float64"
      ]
     },
     "execution_count": 61,
     "metadata": {},
     "output_type": "execute_result"
    }
   ],
   "source": [
    "df_train_final[\"rent\"].min()"
   ]
  },
  {
   "cell_type": "code",
   "execution_count": 63,
   "id": "da45823e-8915-430e-b340-d699a7ff18ce",
   "metadata": {},
   "outputs": [],
   "source": [
    "import pandas as pd\n",
    "from sklearn.model_selection import train_test_split\n",
    "from sklearn.linear_model import LinearRegression\n",
    "from sklearn.metrics import mean_squared_error, mean_absolute_error, r2_score"
   ]
  },
  {
   "cell_type": "code",
   "execution_count": null,
   "id": "cd1de6a6-173e-46ca-b368-36958ae22761",
   "metadata": {},
   "outputs": [],
   "source": []
  },
  {
   "cell_type": "code",
   "execution_count": null,
   "id": "e0d98ef9-4fb0-478a-9cfb-375ab59d28bc",
   "metadata": {},
   "outputs": [],
   "source": []
  },
  {
   "cell_type": "code",
   "execution_count": null,
   "id": "572be2f6-99d0-4b06-a8de-6a70fde46660",
   "metadata": {},
   "outputs": [],
   "source": []
  },
  {
   "cell_type": "code",
   "execution_count": null,
   "id": "99804e19-c3f3-4ad2-af4d-15012adc8b7e",
   "metadata": {},
   "outputs": [],
   "source": []
  },
  {
   "cell_type": "code",
   "execution_count": null,
   "id": "d650d607-7f1a-4595-984e-8b54f198dad4",
   "metadata": {},
   "outputs": [],
   "source": []
  },
  {
   "cell_type": "code",
   "execution_count": null,
   "id": "7e3c5e31-25ed-400d-adcb-49089d0675b7",
   "metadata": {},
   "outputs": [],
   "source": []
  },
  {
   "cell_type": "code",
   "execution_count": null,
   "id": "774d1165-6ceb-406a-af88-b341e9e4d88a",
   "metadata": {},
   "outputs": [],
   "source": []
  },
  {
   "cell_type": "code",
   "execution_count": null,
   "id": "5b603289-4b7a-4f55-a18d-083ab0b3c5b3",
   "metadata": {},
   "outputs": [],
   "source": []
  },
  {
   "cell_type": "code",
   "execution_count": null,
   "id": "e937cb2c-50e9-4733-8e81-8dd951ff8d53",
   "metadata": {},
   "outputs": [],
   "source": []
  },
  {
   "cell_type": "code",
   "execution_count": 64,
   "id": "550e1eec-381f-4e41-8170-1ea169a9746a",
   "metadata": {},
   "outputs": [],
   "source": [
    "y = df_train_final['rent']\n",
    "X = df_train_final.drop('rent', axis=1) \n",
    "# Split the data into training and testing sets\n",
    "X_train, X_test, y_train, y_test = train_test_split(X, y, test_size=0.2, random_state=42)"
   ]
  },
  {
   "cell_type": "code",
   "execution_count": 65,
   "id": "a006317a-76fe-4624-a992-23e7c4fa9bcd",
   "metadata": {},
   "outputs": [
    {
     "data": {
      "text/plain": [
       "LinearRegression()"
      ]
     },
     "execution_count": 65,
     "metadata": {},
     "output_type": "execute_result"
    }
   ],
   "source": [
    "# Train a linear regression model\n",
    "model = LinearRegression()\n",
    "model.fit(X_train, y_train)"
   ]
  },
  {
   "cell_type": "code",
   "execution_count": 66,
   "id": "29e8dce5-0c72-4e56-b9ca-2457cd1de2e5",
   "metadata": {},
   "outputs": [],
   "source": [
    "# Make predictions on the test data\n",
    "y_pred = model.predict(X_test)"
   ]
  },
  {
   "cell_type": "code",
   "execution_count": 67,
   "id": "b126b8bc-b41f-4742-9d0a-f71d6e5fe0c1",
   "metadata": {},
   "outputs": [
    {
     "name": "stdout",
     "output_type": "stream",
     "text": [
      "Mean Squared Error: 2.6612462376963533e+22\n"
     ]
    }
   ],
   "source": [
    "# Evaluate the model (optional)\n",
    "mse = mean_squared_error(y_test, y_pred)\n",
    "print(f'Mean Squared Error: {mse}')"
   ]
  },
  {
   "cell_type": "code",
   "execution_count": 68,
   "id": "5ea7e118-5bbf-4983-90ee-52be5e075a24",
   "metadata": {},
   "outputs": [
    {
     "name": "stdout",
     "output_type": "stream",
     "text": [
      "Mean Absolute Error: 15145561779.588863\n"
     ]
    }
   ],
   "source": [
    "from sklearn.metrics import mean_absolute_error\n",
    "\n",
    "mae = mean_absolute_error(y_test, y_pred)\n",
    "print(f'Mean Absolute Error: {mae}')"
   ]
  },
  {
   "cell_type": "code",
   "execution_count": 69,
   "id": "667518f7-de66-4da6-81a9-f82fa685509c",
   "metadata": {},
   "outputs": [
    {
     "name": "stdout",
     "output_type": "stream",
     "text": [
      "R-squared: -413921956631592.6\n"
     ]
    }
   ],
   "source": [
    "from sklearn.metrics import r2_score\n",
    "\n",
    "r2 = r2_score(y_test, y_pred)\n",
    "print(f'R-squared: {r2}')"
   ]
  },
  {
   "cell_type": "code",
   "execution_count": null,
   "id": "7c2df900-d735-45dc-af40-cd74fe4e3851",
   "metadata": {},
   "outputs": [],
   "source": [
    "# Make predictions on the separate test data\n",
    "predicted_rent = model.predict(df_test)\n",
    "\n",
    "# Create a DataFrame with predictions\n",
    "predicted_df = df_test.copy()\n",
    "predicted_df['predicted_rent'] = predicted_rent\n",
    "\n",
    "# Save or use the predicted data\n",
    "predicted_df.to_csv('predicted_rent.csv', index=False)"
   ]
  }
 ],
 "metadata": {
  "kernelspec": {
   "display_name": "Python 3 (ipykernel)",
   "language": "python",
   "name": "python3"
  },
  "language_info": {
   "codemirror_mode": {
    "name": "ipython",
    "version": 3
   },
   "file_extension": ".py",
   "mimetype": "text/x-python",
   "name": "python",
   "nbconvert_exporter": "python",
   "pygments_lexer": "ipython3",
   "version": "3.9.6"
  }
 },
 "nbformat": 4,
 "nbformat_minor": 5
}
